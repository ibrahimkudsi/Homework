{
 "cells": [
  {
   "cell_type": "code",
   "execution_count": null,
   "metadata": {},
   "outputs": [],
   "source": [
    "a = float(input(\"choose 1 or 2 or 3\\n\"))\n",
    "if a>3:\n",
    "    print(\"please restart the program\",'\\n')\n",
    "if a==1:\n",
    "        print(\"enter m and enter n\",'\\n')\n",
    "        z = int(input(\"z: \"))\n",
    "        x = int(input(\"x: \"))\n",
    "        \n",
    "        r = (z*z + x*x)\n",
    "        r = r**0.5\n",
    "        print(\"hypotenuse: \\n\",r)\n",
    "        \n",
    "elif a==2:\n",
    "    a = int(input(\"please enter a number: \"))\n",
    "    y = 0\n",
    "    while y < a:\n",
    "        y +=1\n",
    "        print(y)\n",
    "        \n",
    "elif a==3:\n",
    "    value1=int(input(\"enter a value1:\"))\n",
    "    value2=int(input(\"enter a value2:\"))\n",
    "    value3=int(input(\"enter a value3:\"))\n",
    "    value4=int(input(\"enter a value4:\"))\n",
    "    value5=int(input(\"enter a value5:\"))\n",
    "    value6=int(input(\"enter a value6:\"))\n",
    "    \n",
    "    print('your values set, respectively:', value1,value2,value3,value4,value5,value6)\n",
    "    result_of_arithmetic=(value1+value2+value3+value4+value5+value6)/6\n",
    "    print('your arithmetic mean is:', result_of_arithmetic)"
   ]
  }
 ],
 "metadata": {
  "kernelspec": {
   "display_name": "Python 3",
   "language": "python",
   "name": "python3"
  },
  "language_info": {
   "codemirror_mode": {
    "name": "ipython",
    "version": 3
   },
   "file_extension": ".py",
   "mimetype": "text/x-python",
   "name": "python",
   "nbconvert_exporter": "python",
   "pygments_lexer": "ipython3",
   "version": "3.7.4"
  }
 },
 "nbformat": 4,
 "nbformat_minor": 2
}
