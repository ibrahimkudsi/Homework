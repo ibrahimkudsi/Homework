{
 "cells": [
  {
   "cell_type": "code",
   "execution_count": null,
   "metadata": {},
   "outputs": [],
   "source": [
    "import math\n",
    "a = int(input('Enter X^2 parameter :'))\n",
    "b = int(input('Enter X parameter :'))\n",
    "c = int(input('Enter the constant of the equation :'))\n",
    "d = int((b*b)-(4*a*c))\n",
    "if  d<0 :\n",
    "    print('Error, b^2 should be grater than 4*a*c')\n",
    "    input('Enter different numbers')\n",
    "else:\n",
    "    s = math.sqrt(d)\n",
    "x1 = int(((-b) + s) / (2 * a))\n",
    "x2 = int(((-b) - s) / (2 * a))\n",
    "print('The first root is x1 = ', x1, )\n",
    "print('The first root is x2 = ', x2, )\n"
   ]
  }
 ],
 "metadata": {
  "kernelspec": {
   "display_name": "Python 3",
   "language": "python",
   "name": "python3"
  },
  "language_info": {
   "codemirror_mode": {
    "name": "ipython",
    "version": 3
   },
   "file_extension": ".py",
   "mimetype": "text/x-python",
   "name": "python",
   "nbconvert_exporter": "python",
   "pygments_lexer": "ipython3",
   "version": "3.6.7"
  }
 },
 "nbformat": 4,
 "nbformat_minor": 2
}
